{
 "cells": [
  {
   "cell_type": "code",
   "execution_count": 47,
   "id": "interesting-commonwealth",
   "metadata": {},
   "outputs": [
    {
     "data": {
      "text/html": [
       "<pre style=\"word-wrap: normal;white-space: pre;background: #fff0;line-height: 1.1;font-family: &quot;Courier New&quot;,Courier,monospace\">     ┌─────────────────┐ ░       ░ ┌───┐      ░ ┌─┐      \n",
       "q_0: ┤ initialize(1,0) ├─░───────░─┤ X ├──■───░─┤M├──────\n",
       "     ├─────────────────┤ ░       ░ └─┬─┘┌─┴─┐ ░ └╥┘┌─┐   \n",
       "q_1: ┤ initialize(0,1) ├─░───────░───■──┤ X ├─░──╫─┤M├───\n",
       "     ├─────────────────┤ ░ ┌───┐ ░   │  └───┘ ░  ║ └╥┘┌─┐\n",
       "q_2: ┤ initialize(1,0) ├─░─┤ X ├─░───■────────░──╫──╫─┤M├\n",
       "     └─────────────────┘ ░ └───┘ ░            ░  ║  ║ └╥┘\n",
       "c: 3/════════════════════════════════════════════╩══╩══╩═\n",
       "                                                 0  1  2 </pre>"
      ],
      "text/plain": [
       "     ┌─────────────────┐ ░       ░ ┌───┐      ░ ┌─┐      \n",
       "q_0: ┤ initialize(1,0) ├─░───────░─┤ X ├──■───░─┤M├──────\n",
       "     ├─────────────────┤ ░       ░ └─┬─┘┌─┴─┐ ░ └╥┘┌─┐   \n",
       "q_1: ┤ initialize(0,1) ├─░───────░───■──┤ X ├─░──╫─┤M├───\n",
       "     ├─────────────────┤ ░ ┌───┐ ░   │  └───┘ ░  ║ └╥┘┌─┐\n",
       "q_2: ┤ initialize(1,0) ├─░─┤ X ├─░───■────────░──╫──╫─┤M├\n",
       "     └─────────────────┘ ░ └───┘ ░            ░  ║  ║ └╥┘\n",
       "c: 3/════════════════════════════════════════════╩══╩══╩═\n",
       "                                                 0  1  2 "
      ]
     },
     "execution_count": 47,
     "metadata": {},
     "output_type": "execute_result"
    }
   ],
   "source": [
    "from qiskit import QuantumRegister, ClassicalRegister, QuantumCircuit, Aer, execute\n",
    "from numpy import pi\n",
    "\n",
    "qreg_q = QuantumRegister(3,'q')\n",
    "creg_c = ClassicalRegister(3, 'c')\n",
    "maxD = QuantumCircuit(qreg_q, creg_c, name='maxD')\n",
    "\n",
    "\n",
    "# maxD.x(qreg_q[2])\n",
    "# maxD.ccx(qreg_q[0], qreg_q[1], qreg_q[2])\n",
    "# maxD.to_gate()\n",
    "# maxD.draw(output='mpl')\n",
    "\n",
    "#!!!! Note qiskit writes vector backwords\n",
    "maxD.initialize([1,0], 0) \n",
    "maxD.initialize([0,1], 1)\n",
    "maxD.initialize([1,0], 2) \n",
    "# start  = (0,1,0)\n",
    "maxD.measure([0,1,2], [0,1,2])\n",
    "maxD.barrier()\n",
    "\n",
    "maxD.x(qreg_q[2])\n",
    "# flip to (1,1,0)\n",
    "maxD.barrier()\n",
    "\n",
    "# flip to (1,1,1)\n",
    "maxD.ccx(qreg_q[2], qreg_q[1], qreg_q[0])\n",
    "maxD.cx(qreg_q[0], qreg_q[1])\n",
    "maxD.barrier()\n",
    "maxD.measure([0,1,2], [0,1,2])\n",
    "\n",
    "maxD.draw()\n",
    "\n"
   ]
  },
  {
   "cell_type": "code",
   "execution_count": 48,
   "id": "opposite-education",
   "metadata": {},
   "outputs": [
    {
     "name": "stdout",
     "output_type": "stream",
     "text": [
      "{'101': 1}\n"
     ]
    }
   ],
   "source": [
    "simulator = Aer.get_backend('qasm_simulator')\n",
    "\n",
    "res = execute(maxD, backend=simulator, shots=1).result()\n",
    "counts = res.get_counts()\n",
    "print(counts)"
   ]
  },
  {
   "cell_type": "code",
   "execution_count": 45,
   "id": "induced-lending",
   "metadata": {},
   "outputs": [
    {
     "data": {
      "text/html": [
       "<pre style=\"word-wrap: normal;white-space: pre;background: #fff0;line-height: 1.1;font-family: &quot;Courier New&quot;,Courier,monospace\">     ┌─────────────────┐┌─┐       ░       ░ ┌───┐      ░ ┌─┐      \n",
       "q_0: ┤ initialize(1,0) ├┤M├───────░───────░─┤ X ├──■───░─┤M├──────\n",
       "     ├─────────────────┤└╥┘┌─┐    ░       ░ └─┬─┘┌─┴─┐ ░ └╥┘┌─┐   \n",
       "q_1: ┤ initialize(0,1) ├─╫─┤M├────░───────░───■──┤ X ├─░──╫─┤M├───\n",
       "     ├─────────────────┤ ║ └╥┘┌─┐ ░ ┌───┐ ░   │  └───┘ ░  ║ └╥┘┌─┐\n",
       "q_2: ┤ initialize(0,1) ├─╫──╫─┤M├─░─┤ X ├─░───■────────░──╫──╫─┤M├\n",
       "     └─────────────────┘ ║  ║ └╥┘ ░ └───┘ ░            ░  ║  ║ └╥┘\n",
       "c: 3/════════════════════╩══╩══╩══════════════════════════╩══╩══╩═\n",
       "                         0  1  2                          0  1  2 </pre>"
      ],
      "text/plain": [
       "     ┌─────────────────┐┌─┐       ░       ░ ┌───┐      ░ ┌─┐      \n",
       "q_0: ┤ initialize(1,0) ├┤M├───────░───────░─┤ X ├──■───░─┤M├──────\n",
       "     ├─────────────────┤└╥┘┌─┐    ░       ░ └─┬─┘┌─┴─┐ ░ └╥┘┌─┐   \n",
       "q_1: ┤ initialize(0,1) ├─╫─┤M├────░───────░───■──┤ X ├─░──╫─┤M├───\n",
       "     ├─────────────────┤ ║ └╥┘┌─┐ ░ ┌───┐ ░   │  └───┘ ░  ║ └╥┘┌─┐\n",
       "q_2: ┤ initialize(0,1) ├─╫──╫─┤M├─░─┤ X ├─░───■────────░──╫──╫─┤M├\n",
       "     └─────────────────┘ ║  ║ └╥┘ ░ └───┘ ░            ░  ║  ║ └╥┘\n",
       "c: 3/════════════════════╩══╩══╩══════════════════════════╩══╩══╩═\n",
       "                         0  1  2                          0  1  2 "
      ]
     },
     "execution_count": 45,
     "metadata": {},
     "output_type": "execute_result"
    }
   ],
   "source": [
    "from qiskit import QuantumRegister, ClassicalRegister, QuantumCircuit, Aer, execute\n",
    "from numpy import pi\n",
    "\n",
    "qreg_q = QuantumRegister(3,'q')\n",
    "creg_c = ClassicalRegister(3, 'c')\n",
    "maxD = QuantumCircuit(qreg_q, creg_c, name='maxD')\n",
    "\n",
    "\n",
    "# maxD.x(qreg_q[2])\n",
    "# maxD.ccx(qreg_q[0], qreg_q[1], qreg_q[2])\n",
    "# maxD.to_gate()\n",
    "# maxD.draw(output='mpl')\n",
    "\n",
    "#!!!! Note qiskit writes vector backwords\n",
    "maxD.initialize([1,0], 0) \n",
    "maxD.initialize([0,1], 1)\n",
    "maxD.initialize([0,1], 2) \n",
    "# start  = (0,1,0)\n",
    "maxD.measure([0,1,2], [0,1,2])\n",
    "maxD.barrier()\n",
    "\n",
    "maxD.x(qreg_q[2])\n",
    "# flip to (1,1,0)\n",
    "maxD.barrier()\n",
    "\n",
    "# flip to (1,1,1)\n",
    "maxD.ccx(qreg_q[2], qreg_q[1], qreg_q[0])\n",
    "maxD.cx(qreg_q[0], qreg_q[1])\n",
    "maxD.barrier()\n",
    "maxD.measure([0,1,2], [0,1,2])\n",
    "\n",
    "maxD.draw()\n"
   ]
  },
  {
   "cell_type": "code",
   "execution_count": 46,
   "id": "vital-russia",
   "metadata": {},
   "outputs": [
    {
     "name": "stdout",
     "output_type": "stream",
     "text": [
      "{'010': 1}\n"
     ]
    }
   ],
   "source": [
    "simulator = Aer.get_backend('qasm_simulator')\n",
    "\n",
    "res = execute(maxD, backend=simulator, shots=1).result()\n",
    "counts = res.get_counts()\n",
    "print(counts)"
   ]
  },
  {
   "cell_type": "code",
   "execution_count": null,
   "id": "apart-alignment",
   "metadata": {},
   "outputs": [],
   "source": []
  }
 ],
 "metadata": {
  "kernelspec": {
   "display_name": "Python 3",
   "language": "python",
   "name": "python3"
  },
  "language_info": {
   "codemirror_mode": {
    "name": "ipython",
    "version": 3
   },
   "file_extension": ".py",
   "mimetype": "text/x-python",
   "name": "python",
   "nbconvert_exporter": "python",
   "pygments_lexer": "ipython3",
   "version": "3.8.5"
  }
 },
 "nbformat": 4,
 "nbformat_minor": 5
}
