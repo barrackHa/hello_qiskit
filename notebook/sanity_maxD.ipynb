{
 "cells": [
  {
   "cell_type": "code",
   "execution_count": 17,
   "id": "impossible-infrared",
   "metadata": {},
   "outputs": [
    {
     "data": {
      "text/html": [
       "<pre style=\"word-wrap: normal;white-space: pre;background: #fff0;line-height: 1.1;font-family: &quot;Courier New&quot;,Courier,monospace\">          ┌───┐     \n",
       "q_0: ─────┤ X ├──■──\n",
       "          └─┬─┘┌─┴─┐\n",
       "q_1: ───────■──┤ X ├\n",
       "     ┌───┐  │  └───┘\n",
       "q_2: ┤ X ├──■───────\n",
       "     └───┘          </pre>"
      ],
      "text/plain": [
       "          ┌───┐     \n",
       "q_0: ─────┤ X ├──■──\n",
       "          └─┬─┘┌─┴─┐\n",
       "q_1: ───────■──┤ X ├\n",
       "     ┌───┐  │  └───┘\n",
       "q_2: ┤ X ├──■───────\n",
       "     └───┘          "
      ]
     },
     "execution_count": 17,
     "metadata": {},
     "output_type": "execute_result"
    }
   ],
   "source": [
    "from qiskit import QuantumRegister, ClassicalRegister, QuantumCircuit, Aer, execute\n",
    "from numpy import pi\n",
    "\n",
    "qreg_q = QuantumRegister(3,'q')\n",
    "maxD = QuantumCircuit(qreg_q, name='maxD')\n",
    "\n",
    "maxD.x(qreg_q[2])\n",
    "\n",
    "maxD.ccx(qreg_q[2], qreg_q[1], qreg_q[0])\n",
    "maxD.cx(qreg_q[0], qreg_q[1])\n",
    "\n",
    "maxD.to_gate()\n",
    "maxD.draw()"
   ]
  },
  {
   "cell_type": "code",
   "execution_count": 14,
   "id": "inappropriate-license",
   "metadata": {},
   "outputs": [],
   "source": [
    "def runCircuit(circuit):\n",
    "    simulator = Aer.get_backend('qasm_simulator')\n",
    "    res = execute(circuit, backend=simulator, shots=1).result()\n",
    "    counts = res.get_counts()\n",
    "    return counts"
   ]
  },
  {
   "cell_type": "code",
   "execution_count": 15,
   "id": "powered-counter",
   "metadata": {},
   "outputs": [],
   "source": [
    "def testCircuitInint(circToTest, vec): \n",
    "    tester = QuantumCircuit(3,3)\n",
    "    for i, val in enumerate(reversed(vec)):\n",
    "#         print(i)\n",
    "        state_vec = [1-int(val) , int(val)] \n",
    "        tester.initialize(state_vec, i)\n",
    "    tester.barrier()\n",
    "    tester.append(circToTest, [0,1,2])\n",
    "    tester.barrier()\n",
    "    tester.measure([0,1,2], [0,1,2])\n",
    "    tester.draw()\n",
    "    return tester"
   ]
  },
  {
   "cell_type": "code",
   "execution_count": 16,
   "id": "athletic-bottle",
   "metadata": {},
   "outputs": [
    {
     "name": "stdout",
     "output_type": "stream",
     "text": [
      "001 -> 101\n",
      "011 -> 111\n",
      "111 -> 011\n",
      "101 -> 001\n",
      "000 -> 100\n",
      "010 -> 110\n",
      "110 -> 010\n",
      "100 -> 000\n"
     ]
    },
    {
     "data": {
      "text/html": [
       "<pre style=\"word-wrap: normal;white-space: pre;background: #fff0;line-height: 1.1;font-family: &quot;Courier New&quot;,Courier,monospace\">     ┌─────────────────┐ ░ ┌───────┐ ░ ┌─┐      \n",
       "q_0: ┤ initialize(1,0) ├─░─┤0      ├─░─┤M├──────\n",
       "     ├─────────────────┤ ░ │       │ ░ └╥┘┌─┐   \n",
       "q_1: ┤ initialize(1,0) ├─░─┤1 maxD ├─░──╫─┤M├───\n",
       "     ├─────────────────┤ ░ │       │ ░  ║ └╥┘┌─┐\n",
       "q_2: ┤ initialize(0,1) ├─░─┤2      ├─░──╫──╫─┤M├\n",
       "     └─────────────────┘ ░ └───────┘ ░  ║  ║ └╥┘\n",
       "c: 3/═══════════════════════════════════╩══╩══╩═\n",
       "                                        0  1  2 </pre>"
      ],
      "text/plain": [
       "     ┌─────────────────┐ ░ ┌───────┐ ░ ┌─┐      \n",
       "q_0: ┤ initialize(1,0) ├─░─┤0      ├─░─┤M├──────\n",
       "     ├─────────────────┤ ░ │       │ ░ └╥┘┌─┐   \n",
       "q_1: ┤ initialize(1,0) ├─░─┤1 maxD ├─░──╫─┤M├───\n",
       "     ├─────────────────┤ ░ │       │ ░  ║ └╥┘┌─┐\n",
       "q_2: ┤ initialize(0,1) ├─░─┤2      ├─░──╫──╫─┤M├\n",
       "     └─────────────────┘ ░ └───────┘ ░  ║  ║ └╥┘\n",
       "c: 3/═══════════════════════════════════╩══╩══╩═\n",
       "                                        0  1  2 "
      ]
     },
     "execution_count": 16,
     "metadata": {},
     "output_type": "execute_result"
    }
   ],
   "source": [
    "# vec[0] - hot, vec[1] - cold, vec[2] = daemon\n",
    "# We expect the daemon to flip the hot\n",
    "truthTable = [\n",
    "    '001',\n",
    "    '011',\n",
    "    '111',\n",
    "    '101',\n",
    "    '000',\n",
    "    '010',\n",
    "    '110',\n",
    "    '100'\n",
    "]\n",
    "\n",
    "for vec in truthTable:\n",
    "    circ = testCircuitInint(maxD, vec)\n",
    "    counts = runCircuit(circ)\n",
    "    print('{} -> {}'.format(vec,list(counts.keys())[0]))\n",
    "    \n",
    "circ.draw()"
   ]
  },
  {
   "cell_type": "code",
   "execution_count": null,
   "id": "painted-connection",
   "metadata": {},
   "outputs": [],
   "source": []
  },
  {
   "cell_type": "code",
   "execution_count": null,
   "id": "lesser-kenya",
   "metadata": {},
   "outputs": [],
   "source": []
  },
  {
   "cell_type": "code",
   "execution_count": null,
   "id": "cooperative-notification",
   "metadata": {},
   "outputs": [],
   "source": []
  }
 ],
 "metadata": {
  "kernelspec": {
   "display_name": "Python 3",
   "language": "python",
   "name": "python3"
  },
  "language_info": {
   "codemirror_mode": {
    "name": "ipython",
    "version": 3
   },
   "file_extension": ".py",
   "mimetype": "text/x-python",
   "name": "python",
   "nbconvert_exporter": "python",
   "pygments_lexer": "ipython3",
   "version": "3.8.5"
  }
 },
 "nbformat": 4,
 "nbformat_minor": 5
}
