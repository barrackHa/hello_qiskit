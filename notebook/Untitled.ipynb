{
 "cells": [
  {
   "cell_type": "code",
   "execution_count": 51,
   "id": "sexual-check",
   "metadata": {},
   "outputs": [
    {
     "name": "stdout",
     "output_type": "stream",
     "text": [
      "dch -> dch -> dch -> dch -> dch -> dch\n",
      "001 -> 001 -> 000 -> 000 -> 000 -> 000\n",
      "011 -> 011 -> 010 -> 010 -> 010 -> 010\n",
      "111 -> 111 -> 110 -> 110 -> 100 -> 101\n",
      "101 -> 101 -> 100 -> 100 -> 110 -> 111\n",
      "000 -> 000 -> 001 -> 001 -> 001 -> 001\n",
      "010 -> 010 -> 011 -> 111 -> 101 -> 100\n",
      "110 -> 110 -> 111 -> 011 -> 011 -> 011\n",
      "100 -> 100 -> 101 -> 101 -> 111 -> 110\n"
     ]
    }
   ],
   "source": [
    "from qiskit import QuantumRegister, ClassicalRegister, QuantumCircuit, Aer, execute\n",
    "from numpy import pi\n",
    "\n",
    "truthTable = [\n",
    "    '001',\n",
    "    '011',\n",
    "    '111',\n",
    "    '101',\n",
    "    '000',\n",
    "    '010',\n",
    "    '110',\n",
    "    '100'\n",
    "]\n",
    "\n",
    "print('dch -> dch -> dch -> dch -> dch -> dch')\n",
    "\n",
    "for vec in truthTable:\n",
    "    qreg_q = QuantumRegister(3,'q')\n",
    "    creg_c = ClassicalRegister(3+3+3+3+3, 'c')\n",
    "    maxD = QuantumCircuit(qreg_q, creg_c, name='maxD')\n",
    "\n",
    "    for i, val in enumerate(vec):\n",
    "        state_vec = [1-int(val) , int(val)] \n",
    "        maxD.initialize(state_vec, i)\n",
    "\n",
    "    maxD.measure([0,1,2], [0,1,2])\n",
    "\n",
    "    maxD.barrier()\n",
    "    maxD.x(qreg_q[2])\n",
    "    maxD.barrier()\n",
    "    \n",
    "    maxD.measure([0,1,2], [3,4,5])\n",
    "    \n",
    "    maxD.barrier()\n",
    "    maxD.ccx(qreg_q[2], qreg_q[1], qreg_q[0])\n",
    "    maxD.barrier()\n",
    "    \n",
    "    maxD.measure([0,1,2], [6,7,8])\n",
    "    \n",
    "    maxD.barrier()\n",
    "    maxD.cx(qreg_q[0], qreg_q[1])\n",
    "    maxD.barrier()\n",
    "    \n",
    "    maxD.measure([0,1,2], [9,10,11])\n",
    "    \n",
    "    maxD.barrier()\n",
    "    maxD.cx(qreg_q[0], qreg_q[2])\n",
    "    maxD.barrier()\n",
    "    \n",
    "    maxD.measure([0,1,2], [12,13,14])\n",
    "    \n",
    "    simulator = Aer.get_backend('qasm_simulator')\n",
    "    res = execute(maxD, backend=simulator, shots=1).result()\n",
    "    counts = res.get_counts()\n",
    "    mes = list(counts.keys()).pop()\n",
    "    mes1 = ''.join(list(reversed(mes))[0:3])\n",
    "    mes2 = ''.join(list(reversed(mes))[3:6])\n",
    "    mes3 = ''.join(list(reversed(mes))[6:9])\n",
    "    mes4 = ''.join(list(reversed(mes))[9:12])\n",
    "    mes5 = ''.join(list(reversed(mes))[12:15])\n",
    "    print('{} -> {} -> {} -> {} -> {} -> {}'.format(vec, mes1, mes2, mes3,mes4, mes5))\n",
    "    \n",
    "    maxD.draw()\n",
    "\n"
   ]
  },
  {
   "cell_type": "code",
   "execution_count": 48,
   "id": "seasonal-campaign",
   "metadata": {},
   "outputs": [
    {
     "data": {
      "text/html": [
       "<pre style=\"word-wrap: normal;white-space: pre;background: #fff0;line-height: 1.1;font-family: &quot;Courier New&quot;,Courier,monospace\">      ┌─────────────────┐┌─┐       ░       ░ ┌─┐       ░ ┌───┐ ░ ┌─┐       ░ »\n",
       " q_0: ┤ initialize(0,1) ├┤M├───────░───────░─┤M├───────░─┤ X ├─░─┤M├───────░─»\n",
       "      ├─────────────────┤└╥┘┌─┐    ░       ░ └╥┘┌─┐    ░ └─┬─┘ ░ └╥┘┌─┐    ░ »\n",
       " q_1: ┤ initialize(1,0) ├─╫─┤M├────░───────░──╫─┤M├────░───■───░──╫─┤M├────░─»\n",
       "      ├─────────────────┤ ║ └╥┘┌─┐ ░ ┌───┐ ░  ║ └╥┘┌─┐ ░   │   ░  ║ └╥┘┌─┐ ░ »\n",
       " q_2: ┤ initialize(1,0) ├─╫──╫─┤M├─░─┤ X ├─░──╫──╫─┤M├─░───■───░──╫──╫─┤M├─░─»\n",
       "      └─────────────────┘ ║  ║ └╥┘ ░ └───┘ ░  ║  ║ └╥┘ ░       ░  ║  ║ └╥┘ ░ »\n",
       "c: 15/════════════════════╩══╩══╩═════════════╩══╩══╩═════════════╩══╩══╩════»\n",
       "                          0  1  2             3  4  5             6  7  8    »\n",
       "«            ░ ┌─┐       ░       ░ ┌─┐      \n",
       "« q_0: ──■───░─┤M├───────░───■───░─┤M├──────\n",
       "«      ┌─┴─┐ ░ └╥┘┌─┐    ░   │   ░ └╥┘┌─┐   \n",
       "« q_1: ┤ X ├─░──╫─┤M├────░───┼───░──╫─┤M├───\n",
       "«      └───┘ ░  ║ └╥┘┌─┐ ░ ┌─┴─┐ ░  ║ └╥┘┌─┐\n",
       "« q_2: ──────░──╫──╫─┤M├─░─┤ X ├─░──╫──╫─┤M├\n",
       "«            ░  ║  ║ └╥┘ ░ └───┘ ░  ║  ║ └╥┘\n",
       "«c: 15/═════════╩══╩══╩═════════════╩══╩══╩═\n",
       "«               9  10 11            12 13 14</pre>"
      ],
      "text/plain": [
       "      ┌─────────────────┐┌─┐       ░       ░ ┌─┐       ░ ┌───┐ ░ ┌─┐       ░ »\n",
       " q_0: ┤ initialize(0,1) ├┤M├───────░───────░─┤M├───────░─┤ X ├─░─┤M├───────░─»\n",
       "      ├─────────────────┤└╥┘┌─┐    ░       ░ └╥┘┌─┐    ░ └─┬─┘ ░ └╥┘┌─┐    ░ »\n",
       " q_1: ┤ initialize(1,0) ├─╫─┤M├────░───────░──╫─┤M├────░───■───░──╫─┤M├────░─»\n",
       "      ├─────────────────┤ ║ └╥┘┌─┐ ░ ┌───┐ ░  ║ └╥┘┌─┐ ░   │   ░  ║ └╥┘┌─┐ ░ »\n",
       " q_2: ┤ initialize(1,0) ├─╫──╫─┤M├─░─┤ X ├─░──╫──╫─┤M├─░───■───░──╫──╫─┤M├─░─»\n",
       "      └─────────────────┘ ║  ║ └╥┘ ░ └───┘ ░  ║  ║ └╥┘ ░       ░  ║  ║ └╥┘ ░ »\n",
       "c: 15/════════════════════╩══╩══╩═════════════╩══╩══╩═════════════╩══╩══╩════»\n",
       "                          0  1  2             3  4  5             6  7  8    »\n",
       "«            ░ ┌─┐       ░       ░ ┌─┐      \n",
       "« q_0: ──■───░─┤M├───────░───■───░─┤M├──────\n",
       "«      ┌─┴─┐ ░ └╥┘┌─┐    ░   │   ░ └╥┘┌─┐   \n",
       "« q_1: ┤ X ├─░──╫─┤M├────░───┼───░──╫─┤M├───\n",
       "«      └───┘ ░  ║ └╥┘┌─┐ ░ ┌─┴─┐ ░  ║ └╥┘┌─┐\n",
       "« q_2: ──────░──╫──╫─┤M├─░─┤ X ├─░──╫──╫─┤M├\n",
       "«            ░  ║  ║ └╥┘ ░ └───┘ ░  ║  ║ └╥┘\n",
       "«c: 15/═════════╩══╩══╩═════════════╩══╩══╩═\n",
       "«               9  10 11            12 13 14"
      ]
     },
     "execution_count": 48,
     "metadata": {},
     "output_type": "execute_result"
    }
   ],
   "source": [
    "maxD.draw()"
   ]
  },
  {
   "cell_type": "code",
   "execution_count": null,
   "id": "related-marketplace",
   "metadata": {},
   "outputs": [],
   "source": []
  }
 ],
 "metadata": {
  "kernelspec": {
   "display_name": "Python 3",
   "language": "python",
   "name": "python3"
  },
  "language_info": {
   "codemirror_mode": {
    "name": "ipython",
    "version": 3
   },
   "file_extension": ".py",
   "mimetype": "text/x-python",
   "name": "python",
   "nbconvert_exporter": "python",
   "pygments_lexer": "ipython3",
   "version": "3.8.5"
  }
 },
 "nbformat": 4,
 "nbformat_minor": 5
}
