{
 "cells": [
  {
   "cell_type": "code",
   "execution_count": 17,
   "id": "dynamic-feedback",
   "metadata": {},
   "outputs": [
    {
     "data": {
      "text/html": [
       "<pre style=\"word-wrap: normal;white-space: pre;background: #fff0;line-height: 1.1;font-family: &quot;Courier New&quot;,Courier,monospace\">     ┌───┐┌───┐┌─┐┌─┐┌─┐\n",
       "q_0: ┤ H ├┤ X ├┤M├┤M├┤M├\n",
       "     └───┘└───┘└╥┘└╥┘└╥┘\n",
       "c: 3/═══════════╩══╩══╩═\n",
       "                0  2  1 </pre>"
      ],
      "text/plain": [
       "     ┌───┐┌───┐┌─┐┌─┐┌─┐\n",
       "q_0: ┤ H ├┤ X ├┤M├┤M├┤M├\n",
       "     └───┘└───┘└╥┘└╥┘└╥┘\n",
       "c: 3/═══════════╩══╩══╩═\n",
       "                0  2  1 "
      ]
     },
     "execution_count": 17,
     "metadata": {},
     "output_type": "execute_result"
    }
   ],
   "source": [
    "from qiskit import QuantumRegister, ClassicalRegister, QuantumCircuit, Aer, execute\n",
    "from numpy import pi\n",
    "\n",
    "qreg_q = QuantumRegister(1,'q')\n",
    "creg_c = ClassicalRegister(3, 'c')    \n",
    "maxD = QuantumCircuit(qreg_q, creg_c, name='maxD')\n",
    "maxD.h(0)\n",
    "maxD.x(qreg_q[0])\n",
    "maxD.measure([0], [0,2])\n",
    "maxD.measure([0], [1])\n",
    "maxD.draw()"
   ]
  },
  {
   "cell_type": "code",
   "execution_count": 18,
   "id": "welcome-number",
   "metadata": {},
   "outputs": [
    {
     "name": "stdout",
     "output_type": "stream",
     "text": [
      "{'000': 42, '111': 58}\n"
     ]
    }
   ],
   "source": [
    "simulator = Aer.get_backend('qasm_simulator')\n",
    "res = execute(maxD, backend=simulator, shots=100).result()\n",
    "counts = res.get_counts()\n",
    "print(counts)"
   ]
  },
  {
   "cell_type": "code",
   "execution_count": null,
   "id": "original-chuck",
   "metadata": {},
   "outputs": [],
   "source": []
  },
  {
   "cell_type": "code",
   "execution_count": null,
   "id": "turkish-latitude",
   "metadata": {},
   "outputs": [],
   "source": []
  },
  {
   "cell_type": "code",
   "execution_count": null,
   "id": "cubic-tactics",
   "metadata": {},
   "outputs": [],
   "source": []
  }
 ],
 "metadata": {
  "kernelspec": {
   "display_name": "Python 3",
   "language": "python",
   "name": "python3"
  },
  "language_info": {
   "codemirror_mode": {
    "name": "ipython",
    "version": 3
   },
   "file_extension": ".py",
   "mimetype": "text/x-python",
   "name": "python",
   "nbconvert_exporter": "python",
   "pygments_lexer": "ipython3",
   "version": "3.8.5"
  }
 },
 "nbformat": 4,
 "nbformat_minor": 5
}
