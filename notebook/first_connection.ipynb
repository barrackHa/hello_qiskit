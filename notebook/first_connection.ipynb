{
 "cells": [
  {
   "cell_type": "code",
   "execution_count": 1,
   "id": "early-latin",
   "metadata": {},
   "outputs": [],
   "source": [
    "from qiskit import IBMQ"
   ]
  },
  {
   "cell_type": "code",
   "execution_count": 2,
   "id": "individual-convert",
   "metadata": {},
   "outputs": [
    {
     "name": "stderr",
     "output_type": "stream",
     "text": [
      "/miniconda/lib/python3.8/site-packages/qiskit/providers/ibmq/ibmqfactory.py:192: UserWarning: Timestamps in IBMQ backend properties, jobs, and job results are all now in local time instead of UTC.\n",
      "  warnings.warn('Timestamps in IBMQ backend properties, jobs, and job results '\n"
     ]
    }
   ],
   "source": [
    "try:\n",
    "    IBMQ.load_account()\n",
    "except:\n",
    "    token = '1a97f2dc9ae67a89bf3f812ff970572a58de0c6bec9306dc411d9d4df9a7119e0f9e99b00e990f93be7fba7fb02777cef47171426c05d333c0946fa27bf23ebd'\n",
    "    IBMQ.save_account(token)\n",
    "    IBMQ.load_account()"
   ]
  },
  {
   "cell_type": "code",
   "execution_count": 3,
   "id": "tropical-killer",
   "metadata": {},
   "outputs": [],
   "source": [
    "provider = IBMQ.get_provider(hub = 'ibm-q')\n",
    "qcomp = provider.get_backend('ibmq_lima')\n",
    "# qcomp = provider.get_backend('ibmq_16_melbourne')\n",
    "# qcomp = provider.get_backend('ibmq_belem')"
   ]
  },
  {
   "cell_type": "code",
   "execution_count": 4,
   "id": "precious-affiliate",
   "metadata": {},
   "outputs": [
    {
     "data": {
      "application/vnd.jupyter.widget-view+json": {
       "model_id": "7593e9c5e73744b9a1b41a33c0d3c7db",
       "version_major": 2,
       "version_minor": 0
      },
      "text/plain": [
       "Accordion(children=(VBox(layout=Layout(max_width='710px', min_width='710px')),), layout=Layout(max_height='500…"
      ]
     },
     "metadata": {},
     "output_type": "display_data"
    },
    {
     "data": {
      "application/javascript": [
       "$('div.job_widget')\n",
       "        .detach()\n",
       "        .appendTo($('#header'))\n",
       "        .css({\n",
       "            'z-index': 999,\n",
       "             'position': 'fixed',\n",
       "            'box-shadow': '5px 5px 5px -3px black',\n",
       "            'opacity': 0.95,\n",
       "            'float': 'left,'\n",
       "        })\n",
       "        "
      ],
      "text/plain": [
       "<IPython.core.display.Javascript object>"
      ]
     },
     "metadata": {},
     "output_type": "display_data"
    }
   ],
   "source": [
    "import qiskit.tools.jupyter\n",
    "%qiskit_job_watcher\n",
    "from qiskit.tools.monitor import job_monitor"
   ]
  },
  {
   "cell_type": "code",
   "execution_count": 5,
   "id": "inappropriate-canyon",
   "metadata": {},
   "outputs": [
    {
     "data": {
      "text/html": [
       "<pre style=\"word-wrap: normal;white-space: pre;background: #fff0;line-height: 1.1;font-family: &quot;Courier New&quot;,Courier,monospace\">     ┌───┐     ┌─┐   \n",
       "q_0: ┤ H ├──■──┤M├───\n",
       "     └───┘┌─┴─┐└╥┘┌─┐\n",
       "q_1: ─────┤ X ├─╫─┤M├\n",
       "          └───┘ ║ └╥┘\n",
       "c: 2/═══════════╩══╩═\n",
       "                0  1 </pre>"
      ],
      "text/plain": [
       "     ┌───┐     ┌─┐   \n",
       "q_0: ┤ H ├──■──┤M├───\n",
       "     └───┘┌─┴─┐└╥┘┌─┐\n",
       "q_1: ─────┤ X ├─╫─┤M├\n",
       "          └───┘ ║ └╥┘\n",
       "c: 2/═══════════╩══╩═\n",
       "                0  1 "
      ]
     },
     "execution_count": 5,
     "metadata": {},
     "output_type": "execute_result"
    }
   ],
   "source": [
    "from qiskit import QuantumRegister, QuantumCircuit, execute\n",
    "\n",
    "circ = QuantumCircuit(2,2)\n",
    "circ.h(0)\n",
    "circ.cx(0,1)\n",
    "circ.measure([0,1],[0,1])\n",
    "circ.draw()\n"
   ]
  },
  {
   "cell_type": "code",
   "execution_count": 6,
   "id": "average-congo",
   "metadata": {},
   "outputs": [],
   "source": [
    "job = execute(circ, backend=qcomp, shots = 1000)\n"
   ]
  },
  {
   "cell_type": "code",
   "execution_count": 7,
   "id": "vocal-christopher",
   "metadata": {},
   "outputs": [
    {
     "name": "stdout",
     "output_type": "stream",
     "text": [
      "Job Status: job has successfully run\n"
     ]
    }
   ],
   "source": [
    "job_monitor(job)"
   ]
  },
  {
   "cell_type": "code",
   "execution_count": 8,
   "id": "private-pavilion",
   "metadata": {},
   "outputs": [
    {
     "data": {
      "image/png": "[encoded data removed]",
      "text/plain": [
       "<Figure size 504x360 with 1 Axes>"
      ]
     },
     "execution_count": 8,
     "metadata": {},
     "output_type": "execute_result"
    }
   ],
   "source": [
    "from qiskit.visualization import plot_histogram\n",
    "%matplotlib inline\n",
    "\n",
    "result = job.result()\n",
    "plot_histogram(result.get_counts(circ))"
   ]
  },
  {
   "cell_type": "code",
   "execution_count": 9,
   "id": "charming-nelson",
   "metadata": {},
   "outputs": [],
   "source": [
    "# Import measurement calibration functions\n",
    "from qiskit.ignis.mitigation.measurement import (complete_meas_cal, CompleteMeasFitter)"
   ]
  },
  {
   "cell_type": "code",
   "execution_count": 12,
   "id": "freelance-accordance",
   "metadata": {},
   "outputs": [
    {
     "name": "stdout",
     "output_type": "stream",
     "text": [
      "[[0.984375   0.03125    0.06835938 0.00390625]\n",
      " [0.01074219 0.96582031 0.         0.08300781]\n",
      " [0.00488281 0.         0.92089844 0.03417969]\n",
      " [0.         0.00292969 0.01074219 0.87890625]]\n"
     ]
    }
   ],
   "source": [
    "qr = QuantumRegister(2)\n",
    "meas_calibs, state_labels = complete_meas_cal(qubit_list=[0,1], qr=qr)\n",
    "\n",
    "job = execute(meas_calibs, backend=qcomp, shots = 1024, optimization_level=0)\n",
    "\n",
    "meas_fitter = CompleteMeasFitter(job.result(), state_labels)\n",
    "print(meas_fitter.cal_matrix)"
   ]
  },
  {
   "cell_type": "code",
   "execution_count": 13,
   "id": "strange-minister",
   "metadata": {},
   "outputs": [
    {
     "name": "stdout",
     "output_type": "stream",
     "text": [
      "\r",
      "Job Status: job has successfully run\n"
     ]
    }
   ],
   "source": [
    "job_monitor(job)"
   ]
  },
  {
   "cell_type": "code",
   "execution_count": 14,
   "id": "retired-rover",
   "metadata": {},
   "outputs": [
    {
     "data": {
      "image/png": "[encoded data removed]",
      "text/plain": [
       "<Figure size 432x288 with 2 Axes>"
      ]
     },
     "metadata": {
      "needs_background": "light"
     },
     "output_type": "display_data"
    }
   ],
   "source": [
    "meas_fitter.plot_calibration()"
   ]
  },
  {
   "cell_type": "code",
   "execution_count": 16,
   "id": "legitimate-calcium",
   "metadata": {},
   "outputs": [
    {
     "data": {
      "image/png": "[encoded data removed]",
      "text/plain": [
       "<Figure size 504x360 with 1 Axes>"
      ]
     },
     "execution_count": 16,
     "metadata": {},
     "output_type": "execute_result"
    }
   ],
   "source": [
    "mf = meas_fitter.filter\n",
    "mitigated_results = mf.apply(result)\n",
    "\n",
    "device_counts = result.get_counts(circ)\n",
    "mitigated_counts = mitigated_results.get_counts(circ)\n",
    "\n",
    "plot_histogram([device_counts, mitigated_counts], legend=['noisy', 'mitigated'])"
   ]
  },
  {
   "cell_type": "code",
   "execution_count": null,
   "id": "finished-percentage",
   "metadata": {},
   "outputs": [],
   "source": []
  }
 ],
 "metadata": {
  "kernelspec": {
   "display_name": "Python 3",
   "language": "python",
   "name": "python3"
  },
  "language_info": {
   "codemirror_mode": {
    "name": "ipython",
    "version": 3
   },
   "file_extension": ".py",
   "mimetype": "text/x-python",
   "name": "python",
   "nbconvert_exporter": "python",
   "pygments_lexer": "ipython3",
   "version": "3.8.5"
  }
 },
 "nbformat": 4,
 "nbformat_minor": 5
}
