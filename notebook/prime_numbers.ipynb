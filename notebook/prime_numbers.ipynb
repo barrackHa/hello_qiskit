{
 "cells": [
  {
   "cell_type": "code",
   "execution_count": 1,
   "id": "cooked-liabilities",
   "metadata": {},
   "outputs": [
    {
     "name": "stdout",
     "output_type": "stream",
     "text": [
      "hi Jason\n"
     ]
    }
   ],
   "source": [
    "print('hi Jason') "
   ]
  },
  {
   "cell_type": "code",
   "execution_count": 21,
   "id": "respected-bench",
   "metadata": {},
   "outputs": [],
   "source": [
    "\n",
    "p = 7 # we want to check if p is prime\n",
    "# how we do that??\n",
    "# a number is prime only if it can be divided \n",
    "# by itself or one and not by any other number.\n",
    "\n",
    "# so we need to check any (and all) numbers that is bigger then 1\n",
    "# an smaller then p\n",
    "def isPrime(p):\n",
    "    prime = True\n",
    "    print(list(range(2,p)))\n",
    "    for number in range(2,p):\n",
    "    # go over each number and cheack if p | number\n",
    "    #print('{}/{} =  {}'.format(p, number ,p / number))\n",
    "    # How to ask python to check for division reminder?\n",
    "    #print('when we divide {} by {}, the reminder is {}'.format(\n",
    "    #    p, number, p%number\n",
    "    #))\n",
    "        print('Checking {}'.format(number))\n",
    "        if p%number == 0:\n",
    "            prime = False\n",
    "            break\n",
    "        \n",
    "    return prime        "
   ]
  },
  {
   "cell_type": "code",
   "execution_count": 9,
   "id": "linear-ecology",
   "metadata": {
    "scrolled": true
   },
   "outputs": [
    {
     "name": "stdout",
     "output_type": "stream",
     "text": [
      "2 is prime\n",
      "3 is prime\n",
      "5 is prime\n",
      "7 is prime\n",
      "11 is prime\n",
      "13 is prime\n",
      "17 is prime\n",
      "19 is prime\n",
      "23 is prime\n",
      "29 is prime\n",
      "31 is prime\n",
      "37 is prime\n",
      "41 is prime\n",
      "43 is prime\n",
      "47 is prime\n",
      "53 is prime\n",
      "59 is prime\n",
      "61 is prime\n",
      "67 is prime\n",
      "71 is prime\n"
     ]
    }
   ],
   "source": [
    "# we'll try to find the first 20 prime numbers\n",
    "\n",
    "first_20_primes_list = [\n",
    "    2,\n",
    "    3,\n",
    "    5,\n",
    "    7,\n",
    "    11,\n",
    "    13,\n",
    "    17,\n",
    "    19,\n",
    "    23,\n",
    "    29,\n",
    "    31,\n",
    "    37,\n",
    "    41,\n",
    "    43,\n",
    "    47,\n",
    "    53,\n",
    "    59,\n",
    "    61,\n",
    "    67,\n",
    "    71\n",
    "] \n",
    "\n",
    "for p in first_20_primes_list:\n",
    "    if isPrime(p):\n",
    "        print('{} is prime'.format(p))\n",
    "    else:\n",
    "        print('{} is NOT a prime number'.format(p))"
   ]
  },
  {
   "cell_type": "code",
   "execution_count": 10,
   "id": "limited-driver",
   "metadata": {},
   "outputs": [
    {
     "data": {
      "text/plain": [
       "'\\n2\\n3\\n4 = 2*2\\n5\\n6 = 2*3\\n7\\n8 = 2*4 = 2*2*2\\n9 = 3*3\\n10 = 2*5  \\n11\\n12 = 2*6 = 2*2*3\\n13\\n14 = 2*7\\n15 = 3*5\\n16 = 2*8 = 2*2*4 = 2*2*2*2\\n17 \\n18 = 2*9 = 2*3*3\\n19 \\n20 = 2*10 = 2*2*5\\n21 = 3*7\\n22 = 2*11\\n23\\n24 = 2*12 = 2*2*6 = 2*2*2*3\\n\\n210\\n'"
      ]
     },
     "execution_count": 10,
     "metadata": {},
     "output_type": "execute_result"
    }
   ],
   "source": [
    "\"\"\"\n",
    "2\n",
    "3\n",
    "4 = 2*2\n",
    "5\n",
    "6 = 2*3\n",
    "7\n",
    "8 = 2*4 = 2*2*2\n",
    "9 = 3*3\n",
    "10 = 2*5  \n",
    "11\n",
    "12 = 2*6 = 2*2*3\n",
    "13\n",
    "14 = 2*7\n",
    "15 = 3*5\n",
    "16 = 2*8 = 2*2*4 = 2*2*2*2\n",
    "17 \n",
    "18 = 2*9 = 2*3*3\n",
    "19 \n",
    "20 = 2*10 = 2*2*5\n",
    "21 = 3*7\n",
    "22 = 2*11\n",
    "23\n",
    "24 = 2*12 = 2*2*6 = 2*2*2*3\n",
    "\n",
    "210\n",
    "\n",
    "360 = \n",
    "\"\"\"\n",
    "\n",
    "\n",
    "\n",
    "\n",
    "\n",
    "\n",
    "\n",
    "\n",
    "\n"
   ]
  },
  {
   "cell_type": "code",
   "execution_count": 12,
   "id": "stable-channels",
   "metadata": {},
   "outputs": [
    {
     "name": "stdout",
     "output_type": "stream",
     "text": [
      "411\n"
     ]
    }
   ],
   "source": [
    "from random import randint\n",
    "\n",
    "print(randint(100, 1000))"
   ]
  },
  {
   "cell_type": "code",
   "execution_count": null,
   "id": "light-objective",
   "metadata": {},
   "outputs": [],
   "source": []
  }
 ],
 "metadata": {
  "kernelspec": {
   "display_name": "Python 3",
   "language": "python",
   "name": "python3"
  },
  "language_info": {
   "codemirror_mode": {
    "name": "ipython",
    "version": 3
   },
   "file_extension": ".py",
   "mimetype": "text/x-python",
   "name": "python",
   "nbconvert_exporter": "python",
   "pygments_lexer": "ipython3",
   "version": "3.8.5"
  }
 },
 "nbformat": 4,
 "nbformat_minor": 5
}
