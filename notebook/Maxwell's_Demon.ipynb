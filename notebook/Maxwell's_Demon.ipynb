{
 "cells": [
  {
   "cell_type": "code",
   "execution_count": 41,
   "id": "maritime-jewelry",
   "metadata": {},
   "outputs": [],
   "source": [
    "from qiskit import *\n",
    "%matplotlib inline\n",
    "from qiskit.tools.visualization import plot_histogram\n"
   ]
  },
  {
   "cell_type": "code",
   "execution_count": 66,
   "id": "wired-freeware",
   "metadata": {},
   "outputs": [
    {
     "data": {
      "text/html": [
       "<pre style=\"word-wrap: normal;white-space: pre;background: #fff0;line-height: 1.1;font-family: &quot;Courier New&quot;,Courier,monospace\">          ┌───┐          \n",
       "q_0: ─────┤ X ├──■────■──\n",
       "          └─┬─┘┌─┴─┐  │  \n",
       "q_1: ───────■──┤ X ├──■──\n",
       "     ┌───┐  │  ├───┤┌─┴─┐\n",
       "q_2: ┤ X ├──■──┤ X ├┤ X ├\n",
       "     └───┘     └───┘└───┘</pre>"
      ],
      "text/plain": [
       "          ┌───┐          \n",
       "q_0: ─────┤ X ├──■────■──\n",
       "          └─┬─┘┌─┴─┐  │  \n",
       "q_1: ───────■──┤ X ├──■──\n",
       "     ┌───┐  │  ├───┤┌─┴─┐\n",
       "q_2: ┤ X ├──■──┤ X ├┤ X ├\n",
       "     └───┘     └───┘└───┘"
      ]
     },
     "execution_count": 66,
     "metadata": {},
     "output_type": "execute_result"
    }
   ],
   "source": [
    "from qiskit import QuantumRegister, ClassicalRegister, QuantumCircuit, Aer\n",
    "from numpy import pi\n",
    "\n",
    "qreg_q = QuantumRegister(3, 'q')\n",
    "#creg_c = ClassicalRegister(3, 'c')\n",
    "# maxD = QuantumCircuit(qreg_q, creg_c, name='maxD')\n",
    "maxD = QuantumCircuit(qreg_q, name='maxD')\n",
    "\n",
    "maxD.x(qreg_q[2])\n",
    "maxD.ccx(qreg_q[2], qreg_q[1], qreg_q[0])\n",
    "maxD.cx(qreg_q[0], qreg_q[1])\n",
    "maxD.x(qreg_q[2])\n",
    "maxD.ccx(qreg_q[0], qreg_q[1], qreg_q[2])\n",
    "maxD.to_gate()\n",
    "# maxD.draw(output='mpl')\n",
    "maxD.draw()\n"
   ]
  },
  {
   "cell_type": "code",
   "execution_count": null,
   "id": "equal-annex",
   "metadata": {},
   "outputs": [],
   "source": []
  },
  {
   "cell_type": "code",
   "execution_count": null,
   "id": "another-rehabilitation",
   "metadata": {},
   "outputs": [],
   "source": []
  },
  {
   "cell_type": "code",
   "execution_count": 70,
   "id": "charged-intermediate",
   "metadata": {},
   "outputs": [
    {
     "data": {
      "text/html": [
       "<pre style=\"word-wrap: normal;white-space: pre;background: #fff0;line-height: 1.1;font-family: &quot;Courier New&quot;,Courier,monospace\">     ┌─────────────────┐┌───────┐┌─┐      \n",
       "q_0: ┤ initialize(1,0) ├┤0      ├┤M├──────\n",
       "     ├─────────────────┤│       │└╥┘┌─┐   \n",
       "q_1: ┤ initialize(0,1) ├┤1 maxD ├─╫─┤M├───\n",
       "     ├─────────────────┤│       │ ║ └╥┘┌─┐\n",
       "q_2: ┤ initialize(1,0) ├┤2      ├─╫──╫─┤M├\n",
       "     └─────────────────┘└───────┘ ║  ║ └╥┘\n",
       "c: 3/═════════════════════════════╩══╩══╩═\n",
       "                                  0  1  2 </pre>"
      ],
      "text/plain": [
       "     ┌─────────────────┐┌───────┐┌─┐      \n",
       "q_0: ┤ initialize(1,0) ├┤0      ├┤M├──────\n",
       "     ├─────────────────┤│       │└╥┘┌─┐   \n",
       "q_1: ┤ initialize(0,1) ├┤1 maxD ├─╫─┤M├───\n",
       "     ├─────────────────┤│       │ ║ └╥┘┌─┐\n",
       "q_2: ┤ initialize(1,0) ├┤2      ├─╫──╫─┤M├\n",
       "     └─────────────────┘└───────┘ ║  ║ └╥┘\n",
       "c: 3/═════════════════════════════╩══╩══╩═\n",
       "                                  0  1  2 "
      ]
     },
     "execution_count": 70,
     "metadata": {},
     "output_type": "execute_result"
    }
   ],
   "source": [
    "circ = QuantumCircuit(3,3)\n",
    "# circ.h([0,1,2])\n",
    "circ.initialize([1,0], 0) \n",
    "circ.initialize([0,1], 1)\n",
    "circ.initialize([1,0], 2) \n",
    "circ.append(maxD, [0,1,2])\n",
    "circ.measure([0,1,2], [0,1,2])\n",
    "circ.draw()"
   ]
  },
  {
   "cell_type": "code",
   "execution_count": 71,
   "id": "insured-burns",
   "metadata": {},
   "outputs": [
    {
     "name": "stdout",
     "output_type": "stream",
     "text": [
      "[{'001': 1}]\n"
     ]
    }
   ],
   "source": [
    "tries = []\n",
    "simulator = Aer.get_backend('qasm_simulator')\n",
    "# simulator = Aer.get_backend('statevector_simulator')\n",
    "# for i in range(10):\n",
    "res = execute(circ, backend=simulator, shots=1).result()\n",
    "counts = res.get_counts()\n",
    "tries.append(counts)\n",
    "print(tries)"
   ]
  },
  {
   "cell_type": "code",
   "execution_count": 72,
   "id": "foster-mistake",
   "metadata": {},
   "outputs": [],
   "source": [
    "#TODO 1: make sanity check - for every input get desiered out\n",
    "#TODO 2: "
   ]
  },
  {
   "cell_type": "code",
   "execution_count": null,
   "id": "chubby-heart",
   "metadata": {},
   "outputs": [],
   "source": []
  },
  {
   "cell_type": "code",
   "execution_count": null,
   "id": "unsigned-quilt",
   "metadata": {},
   "outputs": [],
   "source": []
  }
 ],
 "metadata": {
  "kernelspec": {
   "display_name": "Python 3",
   "language": "python",
   "name": "python3"
  },
  "language_info": {
   "codemirror_mode": {
    "name": "ipython",
    "version": 3
   },
   "file_extension": ".py",
   "mimetype": "text/x-python",
   "name": "python",
   "nbconvert_exporter": "python",
   "pygments_lexer": "ipython3",
   "version": "3.8.5"
  }
 },
 "nbformat": 4,
 "nbformat_minor": 5
}
