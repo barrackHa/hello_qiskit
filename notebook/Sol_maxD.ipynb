{
 "cells": [
  {
   "cell_type": "code",
   "execution_count": 54,
   "id": "altered-poetry",
   "metadata": {},
   "outputs": [
    {
     "name": "stdout",
     "output_type": "stream",
     "text": [
      "dch -> dch -> dch -> dch -> dch -> dch -> dch\n",
      "000 -> 000 -> 001 -> 001 -> 000 -> 000 -> 000\n",
      "001 -> 001 -> 000 -> 000 -> 001 -> 001 -> 001\n",
      "010 -> 010 -> 011 -> 111 -> 110 -> 100 -> 101\n",
      "011 -> 011 -> 010 -> 010 -> 011 -> 011 -> 011\n",
      "100 -> 100 -> 101 -> 101 -> 100 -> 110 -> 111\n",
      "101 -> 101 -> 100 -> 100 -> 101 -> 111 -> 110\n",
      "110 -> 110 -> 111 -> 011 -> 010 -> 010 -> 010\n",
      "111 -> 111 -> 110 -> 110 -> 111 -> 101 -> 100\n"
     ]
    }
   ],
   "source": [
    "from qiskit import QuantumRegister, ClassicalRegister, QuantumCircuit, Aer, execute\n",
    "from numpy import pi\n",
    "\n",
    "truthTable = [\n",
    "    '000',\n",
    "    '001',\n",
    "    '010',\n",
    "    '011',\n",
    "    '100',\n",
    "    '101',\n",
    "    '110',\n",
    "    '111'\n",
    "]\n",
    "\n",
    "print('dch -> dch -> dch -> dch -> dch -> dch -> dch')\n",
    "\n",
    "for vec in truthTable:\n",
    "    qreg_q = QuantumRegister(3,'q')\n",
    "    creg_c = ClassicalRegister(3+3+3+3+3+3, 'c')\n",
    "    maxD = QuantumCircuit(qreg_q, creg_c, name='maxD')\n",
    "\n",
    "    for i, val in enumerate(vec):\n",
    "        state_vec = [1-int(val) , int(val)] \n",
    "        maxD.initialize(state_vec, i)\n",
    "\n",
    "    maxD.measure([0,1,2], [0,1,2])\n",
    "\n",
    "    maxD.barrier()\n",
    "    maxD.x(qreg_q[2])\n",
    "    maxD.barrier()\n",
    "    \n",
    "    maxD.measure([0,1,2], [3,4,5])\n",
    "    \n",
    "    maxD.barrier()\n",
    "    maxD.ccx(qreg_q[2], qreg_q[1], qreg_q[0])\n",
    "    maxD.barrier()\n",
    "    \n",
    "    maxD.measure([0,1,2], [6,7,8])\n",
    "    \n",
    "    maxD.barrier()\n",
    "    maxD.x(qreg_q[2])\n",
    "    maxD.barrier()\n",
    "    \n",
    "    maxD.measure([0,1,2], [9,10,11])\n",
    "    \n",
    "    maxD.barrier()\n",
    "    maxD.cx(qreg_q[0], qreg_q[1])\n",
    "    maxD.barrier()\n",
    "    \n",
    "    maxD.measure([0,1,2], [12,13,14])\n",
    "    \n",
    "    maxD.barrier()\n",
    "    maxD.cx(qreg_q[0], qreg_q[2])\n",
    "    maxD.barrier()\n",
    "    \n",
    "    maxD.measure([0,1,2], [15,16,17])\n",
    "    \n",
    "    simulator = Aer.get_backend('qasm_simulator')\n",
    "    res = execute(maxD, backend=simulator, shots=1).result()\n",
    "    counts = res.get_counts()\n",
    "    mes = list(counts.keys()).pop()\n",
    "    mes1 = ''.join(list(reversed(mes))[0:3])\n",
    "    mes2 = ''.join(list(reversed(mes))[3:6])\n",
    "    mes3 = ''.join(list(reversed(mes))[6:9])\n",
    "    mes4 = ''.join(list(reversed(mes))[9:12])\n",
    "    mes5 = ''.join(list(reversed(mes))[12:15])\n",
    "    mes6 = ''.join(list(reversed(mes))[15:18])\n",
    "    print(\n",
    "        '{} -> {} -> {} -> {} -> {} -> {} -> {}'.format(\n",
    "            vec, mes1, mes2, mes3,mes4, mes5, mes6\n",
    "    ))\n",
    "    \n",
    "    maxD.draw()\n",
    "\n"
   ]
  },
  {
   "cell_type": "code",
   "execution_count": 55,
   "id": "aggregate-setting",
   "metadata": {},
   "outputs": [
    {
     "data": {
      "text/html": [
       "<pre style=\"word-wrap: normal;white-space: pre;background: #fff0;line-height: 1.1;font-family: &quot;Courier New&quot;,Courier,monospace\">      ┌─────────────────┐┌─┐       ░       ░ ┌─┐       ░ ┌───┐ ░ ┌─┐       ░ »\n",
       " q_0: ┤ initialize(0,1) ├┤M├───────░───────░─┤M├───────░─┤ X ├─░─┤M├───────░─»\n",
       "      ├─────────────────┤└╥┘┌─┐    ░       ░ └╥┘┌─┐    ░ └─┬─┘ ░ └╥┘┌─┐    ░ »\n",
       " q_1: ┤ initialize(0,1) ├─╫─┤M├────░───────░──╫─┤M├────░───■───░──╫─┤M├────░─»\n",
       "      ├─────────────────┤ ║ └╥┘┌─┐ ░ ┌───┐ ░  ║ └╥┘┌─┐ ░   │   ░  ║ └╥┘┌─┐ ░ »\n",
       " q_2: ┤ initialize(0,1) ├─╫──╫─┤M├─░─┤ X ├─░──╫──╫─┤M├─░───■───░──╫──╫─┤M├─░─»\n",
       "      └─────────────────┘ ║  ║ └╥┘ ░ └───┘ ░  ║  ║ └╥┘ ░       ░  ║  ║ └╥┘ ░ »\n",
       "c: 18/════════════════════╩══╩══╩═════════════╩══╩══╩═════════════╩══╩══╩════»\n",
       "                          0  1  2             3  4  5             6  7  8    »\n",
       "«            ░ ┌─┐       ░       ░ ┌─┐       ░       ░ ┌─┐      \n",
       "« q_0: ──────░─┤M├───────░───■───░─┤M├───────░───■───░─┤M├──────\n",
       "«            ░ └╥┘┌─┐    ░ ┌─┴─┐ ░ └╥┘┌─┐    ░   │   ░ └╥┘┌─┐   \n",
       "« q_1: ──────░──╫─┤M├────░─┤ X ├─░──╫─┤M├────░───┼───░──╫─┤M├───\n",
       "«      ┌───┐ ░  ║ └╥┘┌─┐ ░ └───┘ ░  ║ └╥┘┌─┐ ░ ┌─┴─┐ ░  ║ └╥┘┌─┐\n",
       "« q_2: ┤ X ├─░──╫──╫─┤M├─░───────░──╫──╫─┤M├─░─┤ X ├─░──╫──╫─┤M├\n",
       "«      └───┘ ░  ║  ║ └╥┘ ░       ░  ║  ║ └╥┘ ░ └───┘ ░  ║  ║ └╥┘\n",
       "«c: 18/═════════╩══╩══╩═════════════╩══╩══╩═════════════╩══╩══╩═\n",
       "«               9  10 11            12 13 14            15 16 17</pre>"
      ],
      "text/plain": [
       "      ┌─────────────────┐┌─┐       ░       ░ ┌─┐       ░ ┌───┐ ░ ┌─┐       ░ »\n",
       " q_0: ┤ initialize(0,1) ├┤M├───────░───────░─┤M├───────░─┤ X ├─░─┤M├───────░─»\n",
       "      ├─────────────────┤└╥┘┌─┐    ░       ░ └╥┘┌─┐    ░ └─┬─┘ ░ └╥┘┌─┐    ░ »\n",
       " q_1: ┤ initialize(0,1) ├─╫─┤M├────░───────░──╫─┤M├────░───■───░──╫─┤M├────░─»\n",
       "      ├─────────────────┤ ║ └╥┘┌─┐ ░ ┌───┐ ░  ║ └╥┘┌─┐ ░   │   ░  ║ └╥┘┌─┐ ░ »\n",
       " q_2: ┤ initialize(0,1) ├─╫──╫─┤M├─░─┤ X ├─░──╫──╫─┤M├─░───■───░──╫──╫─┤M├─░─»\n",
       "      └─────────────────┘ ║  ║ └╥┘ ░ └───┘ ░  ║  ║ └╥┘ ░       ░  ║  ║ └╥┘ ░ »\n",
       "c: 18/════════════════════╩══╩══╩═════════════╩══╩══╩═════════════╩══╩══╩════»\n",
       "                          0  1  2             3  4  5             6  7  8    »\n",
       "«            ░ ┌─┐       ░       ░ ┌─┐       ░       ░ ┌─┐      \n",
       "« q_0: ──────░─┤M├───────░───■───░─┤M├───────░───■───░─┤M├──────\n",
       "«            ░ └╥┘┌─┐    ░ ┌─┴─┐ ░ └╥┘┌─┐    ░   │   ░ └╥┘┌─┐   \n",
       "« q_1: ──────░──╫─┤M├────░─┤ X ├─░──╫─┤M├────░───┼───░──╫─┤M├───\n",
       "«      ┌───┐ ░  ║ └╥┘┌─┐ ░ └───┘ ░  ║ └╥┘┌─┐ ░ ┌─┴─┐ ░  ║ └╥┘┌─┐\n",
       "« q_2: ┤ X ├─░──╫──╫─┤M├─░───────░──╫──╫─┤M├─░─┤ X ├─░──╫──╫─┤M├\n",
       "«      └───┘ ░  ║  ║ └╥┘ ░       ░  ║  ║ └╥┘ ░ └───┘ ░  ║  ║ └╥┘\n",
       "«c: 18/═════════╩══╩══╩═════════════╩══╩══╩═════════════╩══╩══╩═\n",
       "«               9  10 11            12 13 14            15 16 17"
      ]
     },
     "execution_count": 55,
     "metadata": {},
     "output_type": "execute_result"
    }
   ],
   "source": [
    "maxD.draw()"
   ]
  },
  {
   "cell_type": "code",
   "execution_count": 56,
   "id": "worst-liechtenstein",
   "metadata": {},
   "outputs": [
    {
     "data": {
      "text/html": [
       "<pre style=\"word-wrap: normal;white-space: pre;background: #fff0;line-height: 1.1;font-family: &quot;Courier New&quot;,Courier,monospace\">          ┌───┐          \n",
       "q_0: ─────┤ X ├──■────■──\n",
       "          └─┬─┘┌─┴─┐  │  \n",
       "q_1: ───────■──┤ X ├──┼──\n",
       "     ┌───┐  │  ├───┤┌─┴─┐\n",
       "q_2: ┤ X ├──■──┤ X ├┤ X ├\n",
       "     └───┘     └───┘└───┘</pre>"
      ],
      "text/plain": [
       "          ┌───┐          \n",
       "q_0: ─────┤ X ├──■────■──\n",
       "          └─┬─┘┌─┴─┐  │  \n",
       "q_1: ───────■──┤ X ├──┼──\n",
       "     ┌───┐  │  ├───┤┌─┴─┐\n",
       "q_2: ┤ X ├──■──┤ X ├┤ X ├\n",
       "     └───┘     └───┘└───┘"
      ]
     },
     "execution_count": 56,
     "metadata": {},
     "output_type": "execute_result"
    }
   ],
   "source": [
    "# Build Toffolli gate\n",
    "qreg_q = QuantumRegister(3,'q')\n",
    "maxD = QuantumCircuit(qreg_q, name='maxD')\n",
    "\n",
    "maxD.x(qreg_q[2])\n",
    "maxD.ccx(qreg_q[2], qreg_q[1], qreg_q[0])\n",
    "maxD.x(qreg_q[2])\n",
    "maxD.cx(qreg_q[0], qreg_q[1])\n",
    "maxD.cx(qreg_q[0], qreg_q[2])\n",
    "\n",
    "maxD.to_gate()\n",
    "\n",
    "maxD.draw()"
   ]
  },
  {
   "cell_type": "code",
   "execution_count": 57,
   "id": "interpreted-significance",
   "metadata": {},
   "outputs": [],
   "source": [
    "def testCircinit(vec):\n",
    "    \"\"\"\n",
    "    Init input and measurments to maxD accourding to vec\n",
    "    Such that the circuit can be tested. \n",
    "    \"\"\"\n",
    "    circ = QuantumCircuit(3,3)\n",
    "\n",
    "    for i, val in enumerate(vec):\n",
    "            state_vec = [1-int(val) , int(val)] \n",
    "            circ.initialize(state_vec, i)\n",
    "\n",
    "    circ.append(maxD, [0,1,2])\n",
    "    circ.measure([0,1,2], [0,1,2])\n",
    "    return circ\n",
    "\n"
   ]
  },
  {
   "cell_type": "code",
   "execution_count": 58,
   "id": "hindu-interface",
   "metadata": {},
   "outputs": [],
   "source": [
    "# maxD sanity tests\n",
    "\n",
    "simulator = Aer.get_backend('qasm_simulator')\n",
    "\n",
    "truthTable = {\n",
    "    '000': '000',\n",
    "    '001': '001',\n",
    "    '010': '101',\n",
    "    '011': '011',\n",
    "    '100': '111',\n",
    "    '101': '110',\n",
    "    '110': '010',\n",
    "    '111': '100'\n",
    "}\n",
    "\n",
    "for state in truthTable:\n",
    "    circ = testCircinit(state)\n",
    "    res = execute(circ, backend=simulator, shots=1).result()\n",
    "    counts = res.get_counts()\n",
    "    output = list(counts.keys()).pop()\n",
    "    assert ''.join(reversed(output)) == truthTable[state]\n",
    "\n"
   ]
  },
  {
   "cell_type": "code",
   "execution_count": 59,
   "id": "abstract-basement",
   "metadata": {},
   "outputs": [
    {
     "data": {
      "text/html": [
       "<pre style=\"word-wrap: normal;white-space: pre;background: #fff0;line-height: 1.1;font-family: &quot;Courier New&quot;,Courier,monospace\">     ┌─────────────────┐┌───────┐┌─┐      \n",
       "q_0: ┤ initialize(1,0) ├┤0      ├┤M├──────\n",
       "     └──────┬───┬──────┘│       │└╥┘┌─┐   \n",
       "q_1: ───────┤ H ├───────┤1 maxD ├─╫─┤M├───\n",
       "            ├───┤       │       │ ║ └╥┘┌─┐\n",
       "q_2: ───────┤ H ├───────┤2      ├─╫──╫─┤M├\n",
       "            └───┘       └───────┘ ║  ║ └╥┘\n",
       "c: 3/═════════════════════════════╩══╩══╩═\n",
       "                                  0  1  2 </pre>"
      ],
      "text/plain": [
       "     ┌─────────────────┐┌───────┐┌─┐      \n",
       "q_0: ┤ initialize(1,0) ├┤0      ├┤M├──────\n",
       "     └──────┬───┬──────┘│       │└╥┘┌─┐   \n",
       "q_1: ───────┤ H ├───────┤1 maxD ├─╫─┤M├───\n",
       "            ├───┤       │       │ ║ └╥┘┌─┐\n",
       "q_2: ───────┤ H ├───────┤2      ├─╫──╫─┤M├\n",
       "            └───┘       └───────┘ ║  ║ └╥┘\n",
       "c: 3/═════════════════════════════╩══╩══╩═\n",
       "                                  0  1  2 "
      ]
     },
     "execution_count": 59,
     "metadata": {},
     "output_type": "execute_result"
    }
   ],
   "source": [
    "# Quantum maxD circuit\n",
    "circ = QuantumCircuit(3,3)\n",
    "\n",
    "circ.initialize([1,0], 0)\n",
    "\n",
    "# for i, _ in enumerate(vec[:-1]):\n",
    "circ.h(1)\n",
    "circ.h(2)\n",
    "\n",
    "circ.append(maxD, [0,1,2])\n",
    "circ.measure([0,1,2], [0,1,2])\n",
    "\n",
    "circ.draw()"
   ]
  },
  {
   "cell_type": "code",
   "execution_count": 60,
   "id": "willing-positive",
   "metadata": {},
   "outputs": [
    {
     "name": "stdout",
     "output_type": "stream",
     "text": [
      "{'000': 803, '100': 762, '101': 716, '110': 719}\n"
     ]
    },
    {
     "data": {
      "image/png": "[encoded data removed]",
      "text/plain": [
       "<Figure size 504x360 with 1 Axes>"
      ]
     },
     "execution_count": 60,
     "metadata": {},
     "output_type": "execute_result"
    }
   ],
   "source": [
    "res = execute(circ, backend=simulator, shots=3000).result()\n",
    "counts = res.get_counts()\n",
    "print(counts)\n",
    "\n",
    "plot_histogram(counts)\n"
   ]
  },
  {
   "cell_type": "code",
   "execution_count": 61,
   "id": "paperback-triumph",
   "metadata": {},
   "outputs": [
    {
     "name": "stderr",
     "output_type": "stream",
     "text": [
      "ibmqfactory.load_account:WARNING:2021-03-24 02:24:22,508: Credentials are already in use. The existing account in the session will be replaced.\n"
     ]
    },
    {
     "data": {
      "text/plain": [
       "<AccountProvider for IBMQ(hub='ibm-q', group='open', project='main')>"
      ]
     },
     "execution_count": 61,
     "metadata": {},
     "output_type": "execute_result"
    }
   ],
   "source": [
    "# Init connection\n",
    "from qiskit import IBMQ\n",
    "IBMQ.load_account()"
   ]
  },
  {
   "cell_type": "code",
   "execution_count": 62,
   "id": "handmade-mouse",
   "metadata": {},
   "outputs": [],
   "source": [
    "provider = IBMQ.get_provider(hub = 'ibm-q')\n",
    "# qcomp = provider.get_backend('ibmq_lima')\n",
    "qcomp = provider.get_backend('ibmq_belem')"
   ]
  },
  {
   "cell_type": "code",
   "execution_count": 63,
   "id": "aquatic-party",
   "metadata": {},
   "outputs": [
    {
     "data": {
      "application/vnd.jupyter.widget-view+json": {
       "model_id": "",
       "version_major": 2,
       "version_minor": 0
      },
      "text/plain": [
       "Accordion(children=(VBox(layout=Layout(max_width='710px', min_width='710px')),), layout=Layout(max_height='500…"
      ]
     },
     "metadata": {},
     "output_type": "display_data"
    },
    {
     "data": {
      "application/javascript": [
       "$('div.job_widget')\n",
       "        .detach()\n",
       "        .appendTo($('#header'))\n",
       "        .css({\n",
       "            'z-index': 999,\n",
       "             'position': 'fixed',\n",
       "            'box-shadow': '5px 5px 5px -3px black',\n",
       "            'opacity': 0.95,\n",
       "            'float': 'left,'\n",
       "        })\n",
       "        "
      ],
      "text/plain": [
       "<IPython.core.display.Javascript object>"
      ]
     },
     "metadata": {},
     "output_type": "display_data"
    }
   ],
   "source": [
    "import qiskit.tools.jupyter\n",
    "%qiskit_job_watcher\n",
    "from qiskit.tools.monitor import job_monitor\n",
    "# Import measurement calibration functions\n",
    "from qiskit.ignis.mitigation.measurement import (complete_meas_cal, CompleteMeasFitter)"
   ]
  },
  {
   "cell_type": "code",
   "execution_count": 64,
   "id": "worst-cloud",
   "metadata": {},
   "outputs": [
    {
     "name": "stdout",
     "output_type": "stream",
     "text": [
      "Job Status: job has successfully run\n",
      "Meas_Matrix = \n",
      " [[0.64941406 0.14550781 0.07128906 0.02246094 0.12792969 0.04003906\n",
      "  0.02246094 0.        ]\n",
      " [0.12890625 0.61035156 0.01171875 0.07910156 0.03320312 0.125\n",
      "  0.00292969 0.00878906]\n",
      " [0.05664062 0.02246094 0.66992188 0.15917969 0.01757812 0.00292969\n",
      "  0.13574219 0.03417969]\n",
      " [0.01171875 0.05859375 0.109375   0.59179688 0.00292969 0.00683594\n",
      "  0.02441406 0.12597656]\n",
      " [0.12304688 0.02929688 0.00878906 0.00195312 0.64648438 0.15625\n",
      "  0.078125   0.02441406]\n",
      " [0.01757812 0.11914062 0.00195312 0.00878906 0.10742188 0.59765625\n",
      "  0.01074219 0.06640625]\n",
      " [0.01074219 0.00292969 0.10351562 0.02734375 0.04882812 0.01757812\n",
      "  0.60839844 0.140625  ]\n",
      " [0.00195312 0.01171875 0.0234375  0.109375   0.015625   0.05371094\n",
      "  0.1171875  0.59960938]]\n"
     ]
    },
    {
     "data": {
      "image/png": "[encoded data removed]",
      "text/plain": [
       "<Figure size 432x288 with 2 Axes>"
      ]
     },
     "metadata": {
      "needs_background": "light"
     },
     "output_type": "display_data"
    }
   ],
   "source": [
    "# Create measurment Filter\n",
    "\n",
    "qr = QuantumRegister(3)\n",
    "meas_calibs, state_labels = complete_meas_cal(qubit_list=[0,1,2], qr=qr)\n",
    "\n",
    "job = execute(meas_calibs, backend=qcomp, shots = 1024, optimization_level=0)\n",
    "job_monitor(job)\n",
    "\n",
    "meas_fitter = CompleteMeasFitter(job.result(), state_labels)\n",
    "print('Meas_Matrix = \\n',meas_fitter.cal_matrix)\n",
    "meas_fitter.plot_calibration()\n",
    "mf = meas_fitter.filter"
   ]
  },
  {
   "cell_type": "code",
   "execution_count": 68,
   "id": "present-minutes",
   "metadata": {},
   "outputs": [],
   "source": [
    "# Run circ on IBMQ\n",
    "\n",
    "job = execute(circ, backend=qcomp, shots=7000)\n",
    "circ_res = job.result()\n",
    "\n",
    "# device_counts = circ_res.get_counts(circ)\n",
    "\n",
    "        "
   ]
  },
  {
   "cell_type": "code",
   "execution_count": 69,
   "id": "streaming-catholic",
   "metadata": {},
   "outputs": [
    {
     "data": {
      "image/png": "[encoded data removed]",
      "text/plain": [
       "<Figure size 504x360 with 1 Axes>"
      ]
     },
     "execution_count": 69,
     "metadata": {},
     "output_type": "execute_result"
    }
   ],
   "source": [
    "device_counts = circ_res.get_counts(circ)\n",
    "mitigated_results = mf.apply(circ_res)\n",
    "mitigated_counts = mitigated_results.get_counts(circ)\n",
    "\n",
    "plot_histogram([device_counts, mitigated_counts], legend=['noisy', 'mitigated'])"
   ]
  },
  {
   "cell_type": "code",
   "execution_count": 67,
   "id": "thousand-behavior",
   "metadata": {},
   "outputs": [
    {
     "data": {
      "application/vnd.jupyter.widget-view+json": {
       "model_id": "1e004fb1c98d454698da96048ea4572a",
       "version_major": 2,
       "version_minor": 0
      },
      "text/plain": [
       "Accordion(children=(VBox(layout=Layout(max_width='710px', min_width='710px')),), layout=Layout(max_height='500…"
      ]
     },
     "metadata": {},
     "output_type": "display_data"
    },
    {
     "data": {
      "application/javascript": [
       "$('div.job_widget')\n",
       "        .detach()\n",
       "        .appendTo($('#header'))\n",
       "        .css({\n",
       "            'z-index': 999,\n",
       "             'position': 'fixed',\n",
       "            'box-shadow': '5px 5px 5px -3px black',\n",
       "            'opacity': 0.95,\n",
       "            'float': 'left,'\n",
       "        })\n",
       "        "
      ],
      "text/plain": [
       "<IPython.core.display.Javascript object>"
      ]
     },
     "metadata": {},
     "output_type": "display_data"
    },
    {
     "name": "stdout",
     "output_type": "stream",
     "text": [
      "\r",
      "Job Status: job has successfully run\n"
     ]
    }
   ],
   "source": [
    "%qiskit_job_watcher\n",
    "\n",
    "job_monitor(job)\n"
   ]
  },
  {
   "cell_type": "code",
   "execution_count": null,
   "id": "conceptual-trace",
   "metadata": {},
   "outputs": [],
   "source": []
  },
  {
   "cell_type": "code",
   "execution_count": null,
   "id": "stupid-night",
   "metadata": {},
   "outputs": [],
   "source": []
  }
 ],
 "metadata": {
  "kernelspec": {
   "display_name": "Python 3",
   "language": "python",
   "name": "python3"
  },
  "language_info": {
   "codemirror_mode": {
    "name": "ipython",
    "version": 3
   },
   "file_extension": ".py",
   "mimetype": "text/x-python",
   "name": "python",
   "nbconvert_exporter": "python",
   "pygments_lexer": "ipython3",
   "version": "3.8.5"
  }
 },
 "nbformat": 4,
 "nbformat_minor": 5
}
