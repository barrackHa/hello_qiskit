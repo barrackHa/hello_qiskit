{
 "cells": [
  {
   "cell_type": "code",
   "execution_count": 9,
   "id": "altered-poetry",
   "metadata": {},
   "outputs": [
    {
     "name": "stdout",
     "output_type": "stream",
     "text": [
      "dch -> dch -> dch -> dch -> dch -> dch -> dch\n",
      "000 -> 000 -> 001 -> 001 -> 000 -> 000 -> 000\n",
      "001 -> 001 -> 000 -> 000 -> 001 -> 001 -> 001\n",
      "010 -> 010 -> 011 -> 111 -> 110 -> 100 -> 101\n",
      "011 -> 011 -> 010 -> 010 -> 011 -> 011 -> 011\n",
      "100 -> 100 -> 101 -> 101 -> 100 -> 110 -> 111\n",
      "101 -> 101 -> 100 -> 100 -> 101 -> 111 -> 110\n",
      "110 -> 110 -> 111 -> 011 -> 010 -> 010 -> 010\n",
      "111 -> 111 -> 110 -> 110 -> 111 -> 101 -> 100\n"
     ]
    }
   ],
   "source": [
    "from qiskit import QuantumRegister, ClassicalRegister, QuantumCircuit, Aer, execute\n",
    "from numpy import pi\n",
    "\n",
    "truthTable = [\n",
    "    '000',\n",
    "    '001',\n",
    "    '010',\n",
    "    '011',\n",
    "    '100',\n",
    "    '101',\n",
    "    '110',\n",
    "    '111'\n",
    "]\n",
    "\n",
    "print('dch -> dch -> dch -> dch -> dch -> dch -> dch')\n",
    "\n",
    "for vec in truthTable:\n",
    "    qreg_q = QuantumRegister(3,'q')\n",
    "    creg_c = ClassicalRegister(3+3+3+3+3+3, 'c')\n",
    "    maxD = QuantumCircuit(qreg_q, creg_c, name='maxD')\n",
    "\n",
    "    for i, val in enumerate(vec):\n",
    "        state_vec = [1-int(val) , int(val)] \n",
    "        maxD.initialize(state_vec, i)\n",
    "\n",
    "    maxD.measure([0,1,2], [0,1,2])\n",
    "\n",
    "    maxD.barrier()\n",
    "    maxD.x(qreg_q[2])\n",
    "    maxD.barrier()\n",
    "    \n",
    "    maxD.measure([0,1,2], [3,4,5])\n",
    "    \n",
    "    maxD.barrier()\n",
    "    maxD.ccx(qreg_q[2], qreg_q[1], qreg_q[0])\n",
    "    maxD.barrier()\n",
    "    \n",
    "    maxD.measure([0,1,2], [6,7,8])\n",
    "    \n",
    "    maxD.barrier()\n",
    "    maxD.x(qreg_q[2])\n",
    "    maxD.barrier()\n",
    "    \n",
    "    maxD.measure([0,1,2], [9,10,11])\n",
    "    \n",
    "    maxD.barrier()\n",
    "    maxD.cx(qreg_q[0], qreg_q[1])\n",
    "    maxD.barrier()\n",
    "    \n",
    "    maxD.measure([0,1,2], [12,13,14])\n",
    "    \n",
    "    maxD.barrier()\n",
    "    maxD.cx(qreg_q[0], qreg_q[2])\n",
    "    maxD.barrier()\n",
    "    \n",
    "    maxD.measure([0,1,2], [15,16,17])\n",
    "    \n",
    "    simulator = Aer.get_backend('qasm_simulator')\n",
    "    res = execute(maxD, backend=simulator, shots=1).result()\n",
    "    counts = res.get_counts()\n",
    "    mes = list(counts.keys()).pop()\n",
    "    mes1 = ''.join(list(reversed(mes))[0:3])\n",
    "    mes2 = ''.join(list(reversed(mes))[3:6])\n",
    "    mes3 = ''.join(list(reversed(mes))[6:9])\n",
    "    mes4 = ''.join(list(reversed(mes))[9:12])\n",
    "    mes5 = ''.join(list(reversed(mes))[12:15])\n",
    "    mes6 = ''.join(list(reversed(mes))[15:18])\n",
    "    print(\n",
    "        '{} -> {} -> {} -> {} -> {} -> {} -> {}'.format(\n",
    "            vec, mes1, mes2, mes3,mes4, mes5, mes6\n",
    "    ))\n",
    "    \n",
    "    maxD.draw()\n",
    "\n"
   ]
  },
  {
   "cell_type": "code",
   "execution_count": 10,
   "id": "aggregate-setting",
   "metadata": {},
   "outputs": [
    {
     "data": {
      "text/html": [
       "<pre style=\"word-wrap: normal;white-space: pre;background: #fff0;line-height: 1.1;font-family: &quot;Courier New&quot;,Courier,monospace\">      ┌─────────────────┐┌─┐       ░       ░ ┌─┐       ░ ┌───┐ ░ ┌─┐       ░ »\n",
       " q_0: ┤ initialize(0,1) ├┤M├───────░───────░─┤M├───────░─┤ X ├─░─┤M├───────░─»\n",
       "      ├─────────────────┤└╥┘┌─┐    ░       ░ └╥┘┌─┐    ░ └─┬─┘ ░ └╥┘┌─┐    ░ »\n",
       " q_1: ┤ initialize(0,1) ├─╫─┤M├────░───────░──╫─┤M├────░───■───░──╫─┤M├────░─»\n",
       "      ├─────────────────┤ ║ └╥┘┌─┐ ░ ┌───┐ ░  ║ └╥┘┌─┐ ░   │   ░  ║ └╥┘┌─┐ ░ »\n",
       " q_2: ┤ initialize(0,1) ├─╫──╫─┤M├─░─┤ X ├─░──╫──╫─┤M├─░───■───░──╫──╫─┤M├─░─»\n",
       "      └─────────────────┘ ║  ║ └╥┘ ░ └───┘ ░  ║  ║ └╥┘ ░       ░  ║  ║ └╥┘ ░ »\n",
       "c: 18/════════════════════╩══╩══╩═════════════╩══╩══╩═════════════╩══╩══╩════»\n",
       "                          0  1  2             3  4  5             6  7  8    »\n",
       "«            ░ ┌─┐       ░       ░ ┌─┐       ░       ░ ┌─┐      \n",
       "« q_0: ──────░─┤M├───────░───■───░─┤M├───────░───■───░─┤M├──────\n",
       "«            ░ └╥┘┌─┐    ░ ┌─┴─┐ ░ └╥┘┌─┐    ░   │   ░ └╥┘┌─┐   \n",
       "« q_1: ──────░──╫─┤M├────░─┤ X ├─░──╫─┤M├────░───┼───░──╫─┤M├───\n",
       "«      ┌───┐ ░  ║ └╥┘┌─┐ ░ └───┘ ░  ║ └╥┘┌─┐ ░ ┌─┴─┐ ░  ║ └╥┘┌─┐\n",
       "« q_2: ┤ X ├─░──╫──╫─┤M├─░───────░──╫──╫─┤M├─░─┤ X ├─░──╫──╫─┤M├\n",
       "«      └───┘ ░  ║  ║ └╥┘ ░       ░  ║  ║ └╥┘ ░ └───┘ ░  ║  ║ └╥┘\n",
       "«c: 18/═════════╩══╩══╩═════════════╩══╩══╩═════════════╩══╩══╩═\n",
       "«               9  10 11            12 13 14            15 16 17</pre>"
      ],
      "text/plain": [
       "      ┌─────────────────┐┌─┐       ░       ░ ┌─┐       ░ ┌───┐ ░ ┌─┐       ░ »\n",
       " q_0: ┤ initialize(0,1) ├┤M├───────░───────░─┤M├───────░─┤ X ├─░─┤M├───────░─»\n",
       "      ├─────────────────┤└╥┘┌─┐    ░       ░ └╥┘┌─┐    ░ └─┬─┘ ░ └╥┘┌─┐    ░ »\n",
       " q_1: ┤ initialize(0,1) ├─╫─┤M├────░───────░──╫─┤M├────░───■───░──╫─┤M├────░─»\n",
       "      ├─────────────────┤ ║ └╥┘┌─┐ ░ ┌───┐ ░  ║ └╥┘┌─┐ ░   │   ░  ║ └╥┘┌─┐ ░ »\n",
       " q_2: ┤ initialize(0,1) ├─╫──╫─┤M├─░─┤ X ├─░──╫──╫─┤M├─░───■───░──╫──╫─┤M├─░─»\n",
       "      └─────────────────┘ ║  ║ └╥┘ ░ └───┘ ░  ║  ║ └╥┘ ░       ░  ║  ║ └╥┘ ░ »\n",
       "c: 18/════════════════════╩══╩══╩═════════════╩══╩══╩═════════════╩══╩══╩════»\n",
       "                          0  1  2             3  4  5             6  7  8    »\n",
       "«            ░ ┌─┐       ░       ░ ┌─┐       ░       ░ ┌─┐      \n",
       "« q_0: ──────░─┤M├───────░───■───░─┤M├───────░───■───░─┤M├──────\n",
       "«            ░ └╥┘┌─┐    ░ ┌─┴─┐ ░ └╥┘┌─┐    ░   │   ░ └╥┘┌─┐   \n",
       "« q_1: ──────░──╫─┤M├────░─┤ X ├─░──╫─┤M├────░───┼───░──╫─┤M├───\n",
       "«      ┌───┐ ░  ║ └╥┘┌─┐ ░ └───┘ ░  ║ └╥┘┌─┐ ░ ┌─┴─┐ ░  ║ └╥┘┌─┐\n",
       "« q_2: ┤ X ├─░──╫──╫─┤M├─░───────░──╫──╫─┤M├─░─┤ X ├─░──╫──╫─┤M├\n",
       "«      └───┘ ░  ║  ║ └╥┘ ░       ░  ║  ║ └╥┘ ░ └───┘ ░  ║  ║ └╥┘\n",
       "«c: 18/═════════╩══╩══╩═════════════╩══╩══╩═════════════╩══╩══╩═\n",
       "«               9  10 11            12 13 14            15 16 17"
      ]
     },
     "execution_count": 10,
     "metadata": {},
     "output_type": "execute_result"
    }
   ],
   "source": [
    "maxD.draw()"
   ]
  },
  {
   "cell_type": "code",
   "execution_count": 11,
   "id": "worst-liechtenstein",
   "metadata": {},
   "outputs": [
    {
     "data": {
      "text/html": [
       "<pre style=\"word-wrap: normal;white-space: pre;background: #fff0;line-height: 1.1;font-family: &quot;Courier New&quot;,Courier,monospace\">          ┌───┐          \n",
       "q_0: ─────┤ X ├──■────■──\n",
       "          └─┬─┘┌─┴─┐  │  \n",
       "q_1: ───────■──┤ X ├──┼──\n",
       "     ┌───┐  │  ├───┤┌─┴─┐\n",
       "q_2: ┤ X ├──■──┤ X ├┤ X ├\n",
       "     └───┘     └───┘└───┘</pre>"
      ],
      "text/plain": [
       "          ┌───┐          \n",
       "q_0: ─────┤ X ├──■────■──\n",
       "          └─┬─┘┌─┴─┐  │  \n",
       "q_1: ───────■──┤ X ├──┼──\n",
       "     ┌───┐  │  ├───┤┌─┴─┐\n",
       "q_2: ┤ X ├──■──┤ X ├┤ X ├\n",
       "     └───┘     └───┘└───┘"
      ]
     },
     "execution_count": 11,
     "metadata": {},
     "output_type": "execute_result"
    }
   ],
   "source": [
    "# Build Toffolli gate\n",
    "qreg_q = QuantumRegister(3,'q')\n",
    "maxD = QuantumCircuit(qreg_q, name='maxD')\n",
    "\n",
    "maxD.x(qreg_q[2])\n",
    "maxD.ccx(qreg_q[2], qreg_q[1], qreg_q[0])\n",
    "maxD.x(qreg_q[2])\n",
    "maxD.cx(qreg_q[0], qreg_q[1])\n",
    "maxD.cx(qreg_q[0], qreg_q[2])\n",
    "\n",
    "maxD.to_gate()\n",
    "\n",
    "maxD.draw()"
   ]
  },
  {
   "cell_type": "code",
   "execution_count": 12,
   "id": "interpreted-significance",
   "metadata": {},
   "outputs": [],
   "source": [
    "def testCircinit(vec):\n",
    "    \"\"\"\n",
    "    Init input and measurments to maxD accourding to vec\n",
    "    Such that the circuit can be tested. \n",
    "    \"\"\"\n",
    "    circ = QuantumCircuit(3,3)\n",
    "\n",
    "    for i, val in enumerate(vec):\n",
    "            state_vec = [1-int(val) , int(val)] \n",
    "            circ.initialize(state_vec, i)\n",
    "\n",
    "    circ.append(maxD, [0,1,2])\n",
    "    circ.measure([0,1,2], [0,1,2])\n",
    "    return circ\n",
    "\n"
   ]
  },
  {
   "cell_type": "code",
   "execution_count": 13,
   "id": "hindu-interface",
   "metadata": {},
   "outputs": [],
   "source": [
    "# maxD sanity tests\n",
    "\n",
    "simulator = Aer.get_backend('qasm_simulator')\n",
    "\n",
    "truthTable = {\n",
    "    '000': '000',\n",
    "    '001': '001',\n",
    "    '010': '101',\n",
    "    '011': '011',\n",
    "    '100': '111',\n",
    "    '101': '110',\n",
    "    '110': '010',\n",
    "    '111': '100'\n",
    "}\n",
    "\n",
    "for state in truthTable:\n",
    "    circ = testCircinit(state)\n",
    "    res = execute(circ, backend=simulator, shots=1).result()\n",
    "    counts = res.get_counts()\n",
    "    output = list(counts.keys()).pop()\n",
    "    assert ''.join(reversed(output)) == truthTable[state]\n",
    "\n"
   ]
  },
  {
   "cell_type": "code",
   "execution_count": 14,
   "id": "abstract-basement",
   "metadata": {},
   "outputs": [
    {
     "name": "stdout",
     "output_type": "stream",
     "text": [
      "{'000': 385, '001': 385, '010': 422, '011': 397, '100': 345, '101': 345, '110': 351, '111': 370}\n"
     ]
    },
    {
     "data": {
      "text/html": [
       "<pre style=\"word-wrap: normal;white-space: pre;background: #fff0;line-height: 1.1;font-family: &quot;Courier New&quot;,Courier,monospace\">     ┌───┐┌───────┐┌─┐      \n",
       "q_0: ┤ H ├┤0      ├┤M├──────\n",
       "     ├───┤│       │└╥┘┌─┐   \n",
       "q_1: ┤ H ├┤1 maxD ├─╫─┤M├───\n",
       "     ├───┤│       │ ║ └╥┘┌─┐\n",
       "q_2: ┤ H ├┤2      ├─╫──╫─┤M├\n",
       "     └───┘└───────┘ ║  ║ └╥┘\n",
       "c: 3/═══════════════╩══╩══╩═\n",
       "                    0  1  2 </pre>"
      ],
      "text/plain": [
       "     ┌───┐┌───────┐┌─┐      \n",
       "q_0: ┤ H ├┤0      ├┤M├──────\n",
       "     ├───┤│       │└╥┘┌─┐   \n",
       "q_1: ┤ H ├┤1 maxD ├─╫─┤M├───\n",
       "     ├───┤│       │ ║ └╥┘┌─┐\n",
       "q_2: ┤ H ├┤2      ├─╫──╫─┤M├\n",
       "     └───┘└───────┘ ║  ║ └╥┘\n",
       "c: 3/═══════════════╩══╩══╩═\n",
       "                    0  1  2 "
      ]
     },
     "execution_count": 14,
     "metadata": {},
     "output_type": "execute_result"
    }
   ],
   "source": [
    "# Quantum maxD circuit\n",
    "circ = QuantumCircuit(3,3)\n",
    "\n",
    "for i, _ in enumerate(vec):\n",
    "        circ.h(i)\n",
    "\n",
    "circ.append(maxD, [0,1,2])\n",
    "circ.measure([0,1,2], [0,1,2])\n",
    "\n",
    "res = execute(circ, backend=simulator, shots=3000).result()\n",
    "counts = res.get_counts()\n",
    "print(counts)\n",
    "\n",
    "circ.draw()"
   ]
  },
  {
   "cell_type": "code",
   "execution_count": 15,
   "id": "willing-positive",
   "metadata": {},
   "outputs": [
    {
     "data": {
      "image/png": "[encoded data removed]",
      "text/plain": [
       "<Figure size 504x360 with 1 Axes>"
      ]
     },
     "execution_count": 15,
     "metadata": {},
     "output_type": "execute_result"
    }
   ],
   "source": [
    "from qiskit.visualization import plot_histogram\n",
    "%matplotlib inline\n",
    "\n",
    "plot_histogram(counts)\n"
   ]
  },
  {
   "cell_type": "code",
   "execution_count": 1,
   "id": "paperback-triumph",
   "metadata": {},
   "outputs": [
    {
     "name": "stderr",
     "output_type": "stream",
     "text": [
      "/miniconda/lib/python3.8/site-packages/qiskit/providers/ibmq/ibmqfactory.py:192: UserWarning: Timestamps in IBMQ backend properties, jobs, and job results are all now in local time instead of UTC.\n",
      "  warnings.warn('Timestamps in IBMQ backend properties, jobs, and job results '\n"
     ]
    },
    {
     "data": {
      "text/plain": [
       "<AccountProvider for IBMQ(hub='ibm-q', group='open', project='main')>"
      ]
     },
     "execution_count": 1,
     "metadata": {},
     "output_type": "execute_result"
    }
   ],
   "source": [
    "# Init connection\n",
    "from qiskit import IBMQ\n",
    "IBMQ.load_account()"
   ]
  },
  {
   "cell_type": "code",
   "execution_count": 2,
   "id": "communist-lincoln",
   "metadata": {},
   "outputs": [],
   "source": [
    "provider = IBMQ.get_provider(hub = 'ibm-q')\n",
    "qcomp = provider.get_backend('ibmq_lima')"
   ]
  },
  {
   "cell_type": "code",
   "execution_count": 4,
   "id": "robust-conviction",
   "metadata": {},
   "outputs": [
    {
     "data": {
      "application/vnd.jupyter.widget-view+json": {
       "model_id": "c177f064c98a4d5bba3feda8d4bc2573",
       "version_major": 2,
       "version_minor": 0
      },
      "text/plain": [
       "Accordion(children=(VBox(layout=Layout(max_width='710px', min_width='710px')),), layout=Layout(max_height='500…"
      ]
     },
     "metadata": {},
     "output_type": "display_data"
    },
    {
     "data": {
      "application/javascript": [
       "$('div.job_widget')\n",
       "        .detach()\n",
       "        .appendTo($('#header'))\n",
       "        .css({\n",
       "            'z-index': 999,\n",
       "             'position': 'fixed',\n",
       "            'box-shadow': '5px 5px 5px -3px black',\n",
       "            'opacity': 0.95,\n",
       "            'float': 'left,'\n",
       "        })\n",
       "        "
      ],
      "text/plain": [
       "<IPython.core.display.Javascript object>"
      ]
     },
     "metadata": {},
     "output_type": "display_data"
    }
   ],
   "source": [
    "import qiskit.tools.jupyter\n",
    "%qiskit_job_watcher\n",
    "from qiskit.tools.monitor import job_monitor\n",
    "# Import measurement calibration functions\n",
    "from qiskit.ignis.mitigation.measurement import (complete_meas_cal, CompleteMeasFitter)"
   ]
  },
  {
   "cell_type": "code",
   "execution_count": 7,
   "id": "aggressive-circulation",
   "metadata": {},
   "outputs": [
    {
     "name": "stdout",
     "output_type": "stream",
     "text": [
      "Job Status: job has successfully run\n",
      "[[9.78515625e-01 3.51562500e-02 7.81250000e-02 9.76562500e-04\n",
      "  9.57031250e-02 2.92968750e-03 8.78906250e-03 0.00000000e+00]\n",
      " [5.85937500e-03 9.58007812e-01 0.00000000e+00 7.32421875e-02\n",
      "  9.76562500e-04 9.08203125e-02 0.00000000e+00 4.88281250e-03]\n",
      " [7.81250000e-03 0.00000000e+00 9.15039062e-01 2.24609375e-02\n",
      "  0.00000000e+00 0.00000000e+00 9.27734375e-02 9.76562500e-04]\n",
      " [0.00000000e+00 2.92968750e-03 3.90625000e-03 8.98437500e-01\n",
      "  0.00000000e+00 0.00000000e+00 0.00000000e+00 8.30078125e-02]\n",
      " [7.81250000e-03 0.00000000e+00 0.00000000e+00 0.00000000e+00\n",
      "  8.88671875e-01 1.56250000e-02 7.22656250e-02 2.92968750e-03]\n",
      " [0.00000000e+00 3.90625000e-03 0.00000000e+00 9.76562500e-04\n",
      "  8.78906250e-03 8.87695312e-01 0.00000000e+00 5.66406250e-02]\n",
      " [0.00000000e+00 0.00000000e+00 2.92968750e-03 0.00000000e+00\n",
      "  5.85937500e-03 0.00000000e+00 8.16406250e-01 2.63671875e-02]\n",
      " [0.00000000e+00 0.00000000e+00 0.00000000e+00 3.90625000e-03\n",
      "  0.00000000e+00 2.92968750e-03 9.76562500e-03 8.25195312e-01]]\n"
     ]
    },
    {
     "data": {
      "image/png": "[encoded data removed]",
      "text/plain": [
       "<Figure size 432x288 with 2 Axes>"
      ]
     },
     "metadata": {
      "needs_background": "light"
     },
     "output_type": "display_data"
    }
   ],
   "source": [
    "# Create measurment Filter\n",
    "\n",
    "qr = QuantumRegister(3)\n",
    "meas_calibs, state_labels = complete_meas_cal(qubit_list=[0,1,2], qr=qr)\n",
    "\n",
    "job = execute(meas_calibs, backend=qcomp, shots = 1024, optimization_level=0)\n",
    "job_monitor(job)\n",
    "\n",
    "meas_fitter = CompleteMeasFitter(job.result(), state_labels)\n",
    "print(meas_fitter.cal_matrix)\n",
    "meas_fitter.plot_calibration()\n",
    "mf = meas_fitter.filter"
   ]
  },
  {
   "cell_type": "code",
   "execution_count": 16,
   "id": "global-cancellation",
   "metadata": {},
   "outputs": [
    {
     "data": {
      "image/png": "[encoded data removed]",
      "text/plain": [
       "<Figure size 504x360 with 1 Axes>"
      ]
     },
     "execution_count": 16,
     "metadata": {},
     "output_type": "execute_result"
    }
   ],
   "source": [
    "# Run circ on IBMQ\n",
    "\n",
    "job = execute(circ, backend=qcomp, shots=3000)\n",
    "circ_res = job.result()\n",
    "\n",
    "# device_counts = circ_res.get_counts(circ)\n",
    "\n",
    "device_counts = circ_res.get_counts(circ)\n",
    "mitigated_results = mf.apply(circ_res)\n",
    "mitigated_counts = mitigated_results.get_counts(circ)\n",
    "\n",
    "plot_histogram([device_counts, mitigated_counts], legend=['noisy', 'mitigated'])"
   ]
  },
  {
   "cell_type": "code",
   "execution_count": null,
   "id": "collect-kruger",
   "metadata": {},
   "outputs": [],
   "source": []
  }
 ],
 "metadata": {
  "kernelspec": {
   "display_name": "Python 3",
   "language": "python",
   "name": "python3"
  },
  "language_info": {
   "codemirror_mode": {
    "name": "ipython",
    "version": 3
   },
   "file_extension": ".py",
   "mimetype": "text/x-python",
   "name": "python",
   "nbconvert_exporter": "python",
   "pygments_lexer": "ipython3",
   "version": "3.8.5"
  }
 },
 "nbformat": 4,
 "nbformat_minor": 5
}
